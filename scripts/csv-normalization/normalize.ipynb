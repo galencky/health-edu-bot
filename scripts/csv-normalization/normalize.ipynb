{
 "cells": [
  {
   "cell_type": "code",
   "execution_count": 5,
   "id": "28bef024",
   "metadata": {},
   "outputs": [
    {
     "name": "stdout",
     "output_type": "stream",
     "text": [
      "✅ Normalized dataset saved to:\n",
      "C:\\Users\\galen\\Downloads\\ChatbotLogs\\normalized_old_dataset.csv\n"
     ]
    }
   ],
   "source": [
    "from bs4 import BeautifulSoup\n",
    "import pandas as pd\n",
    "\n",
    "# Load HTML content (truncated or pasted for demo, replace with full HTML string if needed)\n",
    "html_path = r\"C:\\Users\\galen\\Downloads\\ChatbotLogs\\Archive.html\"\n",
    "\n",
    "with open(html_path, \"r\", encoding=\"utf-8\") as file:\n",
    "    soup = BeautifulSoup(file.read(), \"html.parser\")\n",
    "\n",
    "# Extract table rows\n",
    "rows = soup.select(\"table.waffle tr\")[1:]  # skip header row\n",
    "\n",
    "data = []\n",
    "for row in rows:\n",
    "    cols = row.find_all([\"td\", \"th\"])\n",
    "    if len(cols) < 8:\n",
    "        continue\n",
    "    timestamp = cols[0].get_text(strip=True)\n",
    "    user_id = cols[1].get_text(strip=True)\n",
    "    message = cols[2].get_text(strip=True)\n",
    "    reply = cols[3].decode_contents().replace(\"<br>\", \"\\n\").strip()\n",
    "    action_type = cols[4].get_text(strip=True)\n",
    "    gemini_call = cols[5].get_text(strip=True).lower() == \"yes\"\n",
    "    url_tag = cols[6].find(\"a\")\n",
    "    gemini_output_url = url_tag[\"href\"] if url_tag else \"\"\n",
    "    created_at = timestamp\n",
    "\n",
    "    data.append({\n",
    "        \"timestamp\": timestamp,\n",
    "        \"user_id\": user_id,\n",
    "        \"message\": message,\n",
    "        \"reply\": reply,\n",
    "        \"action_type\": action_type,\n",
    "        \"gemini_call\": gemini_call,\n",
    "        \"gemini_output_url\": gemini_output_url,\n",
    "        \"created_at\": created_at,\n",
    "    })\n",
    "\n",
    "df = pd.DataFrame(data)\n",
    "df.insert(0, \"id\", range(1, len(df) + 1))\n",
    "df.to_csv(output_csv_path, index=False, encoding=\"utf-8-sig\")\n",
    "\n",
    "print(f\"✅ Normalized dataset saved to:\\n{output_csv_path}\")\n"
   ]
  }
 ],
 "metadata": {
  "kernelspec": {
   "display_name": "Python 3",
   "language": "python",
   "name": "python3"
  },
  "language_info": {
   "codemirror_mode": {
    "name": "ipython",
    "version": 3
   },
   "file_extension": ".py",
   "mimetype": "text/x-python",
   "name": "python",
   "nbconvert_exporter": "python",
   "pygments_lexer": "ipython3",
   "version": "3.13.4"
  }
 },
 "nbformat": 4,
 "nbformat_minor": 5
}
