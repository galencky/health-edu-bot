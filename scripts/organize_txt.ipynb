{
 "cells": [
  {
   "cell_type": "code",
   "execution_count": null,
   "id": "31da5ae2",
   "metadata": {},
   "outputs": [
    {
     "name": "stdout",
     "output_type": "stream",
     "text": [
      "✅  Finished.\n",
      "   Moved : 5\n",
      "   Skipped: 0\n"
     ]
    },
    {
     "ename": "",
     "evalue": "",
     "output_type": "error",
     "traceback": [
      "\u001b[1;31mThe Kernel crashed while executing code in the current cell or a previous cell. \n",
      "\u001b[1;31mPlease review the code in the cell(s) to identify a possible cause of the failure. \n",
      "\u001b[1;31mClick <a href='https://aka.ms/vscodeJupyterKernelCrash'>here</a> for more info. \n",
      "\u001b[1;31mView Jupyter <a href='command:jupyter.viewOutput'>log</a> for further details."
     ]
    }
   ],
   "source": [
    "# Cell 1 – organise_chatbot_texts.py\n",
    "import os\n",
    "import shutil\n",
    "from pathlib import Path\n",
    "\n",
    "# ⇩⇩  EDIT THIS PATH if your folder is elsewhere  ⇩⇩\n",
    "base_dir = Path(r\"C:\\Users\\galen\\My Drive\\社區醫學\\Mededbot-多語言衛教AI\\ChatbotTexts\")\n",
    "\n",
    "# Safety check\n",
    "if not base_dir.is_dir():\n",
    "    raise FileNotFoundError(f\"{base_dir} does not exist – double-check the path above.\")\n",
    "\n",
    "moved, skipped = 0, 0\n",
    "\n",
    "for file_path in base_dir.glob(\"*.txt\"):\n",
    "    fname = file_path.name\n",
    "    if \"-\" not in fname:\n",
    "        # Skip files that don’t follow the expected “<id>-<timestamp>.txt” pattern\n",
    "        skipped += 1\n",
    "        continue\n",
    "\n",
    "    user_id = fname.split(\"-\", 1)[0]         # everything before the first “-”\n",
    "    dest_dir = base_dir / user_id            # e.g. ...\\ChatbotTexts\\U123abc…\n",
    "    dest_dir.mkdir(exist_ok=True)\n",
    "\n",
    "    target = dest_dir / fname\n",
    "    try:\n",
    "        shutil.move(str(file_path), str(target))\n",
    "        moved += 1\n",
    "    except shutil.Error:\n",
    "        # File with the same name already there – skip to avoid overwriting\n",
    "        skipped += 1\n",
    "        continue\n",
    "\n",
    "print(f\"✅  Finished.\\n   Moved : {moved}\\n   Skipped: {skipped}\")\n"
   ]
  }
 ],
 "metadata": {
  "kernelspec": {
   "display_name": "Python 3",
   "language": "python",
   "name": "python3"
  },
  "language_info": {
   "codemirror_mode": {
    "name": "ipython",
    "version": 3
   },
   "file_extension": ".py",
   "mimetype": "text/x-python",
   "name": "python",
   "nbconvert_exporter": "python",
   "pygments_lexer": "ipython3",
   "version": "3.11.8"
  }
 },
 "nbformat": 4,
 "nbformat_minor": 5
}
