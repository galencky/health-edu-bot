{
 "cells": [
  {
   "cell_type": "markdown",
   "metadata": {},
   "source": [
    "# Re-log Failed Database Entries (Synchronous Version)\n",
    "\n",
    "This notebook helps re-insert failed log entries into the Neon database using synchronous connections."
   ]
  },
  {
   "cell_type": "code",
   "execution_count": 102,
   "metadata": {},
   "outputs": [],
   "source": [
    "import os\n",
    "from datetime import datetime\n",
    "from sqlalchemy import create_engine, text\n",
    "from sqlalchemy.orm import sessionmaker\n",
    "from dotenv import load_dotenv\n",
    "\n",
    "# Load environment variables\n",
    "load_dotenv()\n",
    "\n",
    "# Import database models\n",
    "import sys\n",
    "sys.path.append(os.path.dirname(os.path.abspath('')))\n",
    "from utils.database import ChatLog, Base, get_db_engine"
   ]
  },
  {
   "cell_type": "markdown",
   "metadata": {},
   "source": [
    "## Paste Failed Log Parameters Here"
   ]
  },
  {
   "cell_type": "code",
   "execution_count": 103,
   "metadata": {},
   "outputs": [],
   "source": [
    "# Paste your failed log parameters here\n",
    "# IMPORTANT: Replace \"datetime.datetime\" with just \"datetime\" when pasting!\n",
    "\n",
    "failed_logs = [(datetime(2025, 6, 13, 4, 58, 45, 7749), 'Uc721d654582e24d84713fddd7839865f', '大約要半年才會穩定，但這是需要終身服藥控制的疾病', '您是否想表達：\\n大約需要半年時間病情才會穩定下來，不過這是一種需要終身服藥來控制的疾病。\\n\\nประมาณครึ่งปีอาการถึงจะคงที่ อย่างไรก็ตาม นี่เป็นโรคที่ต้องกินยาตลอดชีวิตเพื่อควบคุม เข้าใจไหมครับ?', 'medchat', True, 'https://drive.google.com/file/d/1S1gmaC8_udqWupFzQ2QGpP2ESeFdzVfE/view', datetime(2025, 6, 13, 4, 58, 45, 7753))]"
   ]
  },
  {
   "cell_type": "markdown",
   "metadata": {},
   "source": [
    "## Process Failed Logs"
   ]
  },
  {
   "cell_type": "code",
   "execution_count": 104,
   "metadata": {},
   "outputs": [
    {
     "name": "stdout",
     "output_type": "stream",
     "text": [
      "Parsed 1 log entries\n",
      "\n",
      "Log 1:\n",
      "  User ID: Uc721d654582e24d8471...\n",
      "  Message: 大約要半年才會穩定，但這是需要終身服藥控制的疾病\n",
      "  Action: medchat\n",
      "  Timestamp: 2025-06-13 04:58:45.007749\n"
     ]
    }
   ],
   "source": [
    "# Parse the failed logs into structured data\n",
    "parsed_logs = []\n",
    "\n",
    "for log_params in failed_logs:\n",
    "    if len(log_params) == 8:\n",
    "        timestamp, user_id, message, reply, action_type, gemini_call, gemini_output_url, created_at = log_params\n",
    "        parsed_logs.append({\n",
    "            'timestamp': timestamp,\n",
    "            'user_id': user_id,\n",
    "            'message': message,\n",
    "            'reply': reply,\n",
    "            'action_type': action_type,\n",
    "            'gemini_call': gemini_call,\n",
    "            'gemini_output_url': gemini_output_url,\n",
    "            'created_at': created_at\n",
    "        })\n",
    "    else:\n",
    "        print(f\"Warning: Log entry has {len(log_params)} parameters instead of 8\")\n",
    "\n",
    "print(f\"Parsed {len(parsed_logs)} log entries\")\n",
    "for i, log in enumerate(parsed_logs):\n",
    "    print(f\"\\nLog {i+1}:\")\n",
    "    print(f\"  User ID: {log['user_id'][:20]}...\")\n",
    "    print(f\"  Message: {log['message'][:50]}...\" if len(log['message']) > 50 else f\"  Message: {log['message']}\")\n",
    "    print(f\"  Action: {log['action_type']}\")\n",
    "    print(f\"  Timestamp: {log['timestamp']}\")"
   ]
  },
  {
   "cell_type": "markdown",
   "metadata": {},
   "source": [
    "## Check Database Status"
   ]
  },
  {
   "cell_type": "code",
   "execution_count": 105,
   "metadata": {},
   "outputs": [
    {
     "name": "stdout",
     "output_type": "stream",
     "text": [
      "Database Status:\n",
      "  Total chat logs: 1213\n",
      "  Max ID: 1213\n",
      "  Current sequence: 1213\n"
     ]
    }
   ],
   "source": [
    "def check_database_status():\n",
    "    \"\"\"Check current database status and sequences\"\"\"\n",
    "    engine = get_db_engine()\n",
    "    \n",
    "    with engine.connect() as conn:\n",
    "        # Check current max ID and sequence\n",
    "        result = conn.execute(text(\"\"\"\n",
    "            SELECT \n",
    "                (SELECT MAX(id) FROM chat_logs) as max_id,\n",
    "                (SELECT last_value FROM chat_logs_id_seq) as seq_value,\n",
    "                (SELECT COUNT(*) FROM chat_logs) as total_count\n",
    "        \"\"\"))\n",
    "        row = result.fetchone()\n",
    "        print(f\"Database Status:\")\n",
    "        print(f\"  Total chat logs: {row.total_count}\")\n",
    "        print(f\"  Max ID: {row.max_id}\")\n",
    "        print(f\"  Current sequence: {row.seq_value}\")\n",
    "        \n",
    "    engine.dispose()\n",
    "    return row.max_id, row.seq_value\n",
    "\n",
    "# Check current status\n",
    "max_id, seq_value = check_database_status()"
   ]
  },
  {
   "cell_type": "markdown",
   "metadata": {},
   "source": [
    "## Fix Sequence if Needed"
   ]
  },
  {
   "cell_type": "code",
   "execution_count": 106,
   "metadata": {},
   "outputs": [
    {
     "name": "stdout",
     "output_type": "stream",
     "text": [
      "✅ Sequence reset to: 1214\n"
     ]
    }
   ],
   "source": [
    "def fix_sequence_if_needed():\n",
    "    \"\"\"Fix sequence if it's out of sync\"\"\"\n",
    "    engine = get_db_engine()\n",
    "    \n",
    "    with engine.begin() as conn:\n",
    "        # Get current max ID\n",
    "        result = conn.execute(text(\"SELECT COALESCE(MAX(id), 0) as max_id FROM chat_logs\"))\n",
    "        max_id = result.scalar()\n",
    "        \n",
    "        # Reset sequence to max_id + 1\n",
    "        new_seq = max_id + 1\n",
    "        conn.execute(text(f\"ALTER SEQUENCE chat_logs_id_seq RESTART WITH {new_seq}\"))\n",
    "        print(f\"✅ Sequence reset to: {new_seq}\")\n",
    "    \n",
    "    engine.dispose()\n",
    "\n",
    "# Fix sequence\n",
    "fix_sequence_if_needed()"
   ]
  },
  {
   "cell_type": "markdown",
   "metadata": {},
   "source": [
    "## Re-insert Failed Logs"
   ]
  },
  {
   "cell_type": "code",
   "execution_count": 107,
   "metadata": {},
   "outputs": [
    {
     "name": "stdout",
     "output_type": "stream",
     "text": [
      "✅ Successfully re-inserted log for user Uc721d654582e24d8471... (ID: 1214)\n",
      "\n",
      "📊 Summary:\n",
      "  Successfully re-inserted: 1\n",
      "  Failed: 0\n"
     ]
    }
   ],
   "source": [
    "def reinsert_logs(logs):\n",
    "    \"\"\"Re-insert failed logs into the database\"\"\"\n",
    "    engine = get_db_engine()\n",
    "    Session = sessionmaker(bind=engine)\n",
    "    \n",
    "    success_count = 0\n",
    "    failed_count = 0\n",
    "    \n",
    "    for log_data in logs:\n",
    "        session = Session()\n",
    "        try:\n",
    "            # Create new ChatLog object (without specifying ID)\n",
    "            chat_log = ChatLog(\n",
    "                timestamp=log_data['timestamp'],\n",
    "                user_id=log_data['user_id'],\n",
    "                message=log_data['message'],\n",
    "                reply=log_data['reply'][:1000] if log_data['reply'] else None,\n",
    "                action_type=log_data['action_type'],\n",
    "                gemini_call=log_data['gemini_call'],\n",
    "                gemini_output_url=log_data['gemini_output_url'],\n",
    "                created_at=log_data['created_at']\n",
    "            )\n",
    "            \n",
    "            session.add(chat_log)\n",
    "            session.commit()\n",
    "            \n",
    "            print(f\"✅ Successfully re-inserted log for user {log_data['user_id'][:20]}... (ID: {chat_log.id})\")\n",
    "            success_count += 1\n",
    "            \n",
    "        except Exception as e:\n",
    "            print(f\"❌ Failed to re-insert log: {e}\")\n",
    "            session.rollback()\n",
    "            failed_count += 1\n",
    "        finally:\n",
    "            session.close()\n",
    "    \n",
    "    engine.dispose()\n",
    "    \n",
    "    print(f\"\\n📊 Summary:\")\n",
    "    print(f\"  Successfully re-inserted: {success_count}\")\n",
    "    print(f\"  Failed: {failed_count}\")\n",
    "    \n",
    "    return success_count, failed_count\n",
    "\n",
    "# Re-insert the logs\n",
    "if parsed_logs:\n",
    "    success, failed = reinsert_logs(parsed_logs)\n",
    "else:\n",
    "    print(\"No logs to re-insert. Please add failed log parameters in the cell above.\")"
   ]
  },
  {
   "cell_type": "markdown",
   "metadata": {},
   "source": [
    "## Alternative: Direct SQL Insert"
   ]
  },
  {
   "cell_type": "code",
   "execution_count": 108,
   "metadata": {},
   "outputs": [],
   "source": [
    "def direct_sql_insert(logs):\n",
    "    \"\"\"Insert logs using direct SQL (bypasses ORM)\"\"\"\n",
    "    engine = get_db_engine()\n",
    "    \n",
    "    success_count = 0\n",
    "    failed_count = 0\n",
    "    \n",
    "    with engine.begin() as conn:\n",
    "        for log_data in logs:\n",
    "            try:\n",
    "                # Use INSERT with column names (let ID auto-generate)\n",
    "                conn.execute(text(\"\"\"\n",
    "                    INSERT INTO chat_logs \n",
    "                    (timestamp, user_id, message, reply, action_type, gemini_call, gemini_output_url, created_at)\n",
    "                    VALUES \n",
    "                    (:timestamp, :user_id, :message, :reply, :action_type, :gemini_call, :gemini_output_url, :created_at)\n",
    "                \"\"\"), {\n",
    "                    'timestamp': log_data['timestamp'],\n",
    "                    'user_id': log_data['user_id'],\n",
    "                    'message': log_data['message'],\n",
    "                    'reply': log_data['reply'][:1000] if log_data['reply'] else None,\n",
    "                    'action_type': log_data['action_type'],\n",
    "                    'gemini_call': log_data['gemini_call'],\n",
    "                    'gemini_output_url': log_data['gemini_output_url'],\n",
    "                    'created_at': log_data['created_at']\n",
    "                })\n",
    "                \n",
    "                print(f\"✅ Successfully inserted log via SQL for user {log_data['user_id'][:20]}...\")\n",
    "                success_count += 1\n",
    "                \n",
    "            except Exception as e:\n",
    "                print(f\"❌ Failed to insert via SQL: {e}\")\n",
    "                failed_count += 1\n",
    "    \n",
    "    engine.dispose()\n",
    "    \n",
    "    print(f\"\\n📊 SQL Insert Summary:\")\n",
    "    print(f\"  Successfully inserted: {success_count}\")\n",
    "    print(f\"  Failed: {failed_count}\")\n",
    "    \n",
    "# Uncomment to use direct SQL insert if ORM method fails\n",
    "# if parsed_logs:\n",
    "#     direct_sql_insert(parsed_logs)"
   ]
  },
  {
   "cell_type": "markdown",
   "metadata": {},
   "source": [
    "## Verify Results"
   ]
  },
  {
   "cell_type": "code",
   "execution_count": 109,
   "metadata": {},
   "outputs": [
    {
     "name": "stdout",
     "output_type": "stream",
     "text": [
      "Database Status:\n",
      "  Total chat logs: 1214\n",
      "  Max ID: 1214\n",
      "  Current sequence: 1214\n",
      "\n",
      "Recent logs for user Uc721d654582e24d8471...:\n",
      "  ID: 1214, Time: 2025-06-13 04:58:45.007749, Action: medchat\n",
      "    Message: 大約要半年才會穩定，但這是需要終身服藥控制的疾病\n",
      "  ID: 1213, Time: 2025-06-13 04:52:41.352325, Action: medchat\n",
      "    Message: 台灣和泰國很像，可惜芒果沒有泰國的好吃哈哈\n",
      "  ID: 1212, Time: 2025-06-13 04:34:37.869327, Action: medchat\n",
      "    Message: 能讓你有這種感受，醫師們肯定會很開心的\n",
      "  ID: 1211, Time: 2025-06-13 04:03:19.618172, Action: medchat\n",
      "    Message: 真高興聽到你的狀況越來越好\n",
      "  ID: 1210, Time: 2025-06-13 03:55:04.120786, Action: medchat\n",
      "    Message: 現在會開始胃口變好；避免體重上升太快；要運動\n"
     ]
    }
   ],
   "source": [
    "# Check database status after insertion\n",
    "check_database_status()\n",
    "\n",
    "# Check specific user's recent logs\n",
    "if parsed_logs:\n",
    "    user_id = parsed_logs[0]['user_id']\n",
    "    engine = get_db_engine()\n",
    "    \n",
    "    with engine.connect() as conn:\n",
    "        result = conn.execute(text(\"\"\"\n",
    "            SELECT id, timestamp, action_type, LEFT(message, 50) as message_preview\n",
    "            FROM chat_logs\n",
    "            WHERE user_id = :user_id\n",
    "            ORDER BY timestamp DESC\n",
    "            LIMIT 5\n",
    "        \"\"\"), {'user_id': user_id})\n",
    "        \n",
    "        print(f\"\\nRecent logs for user {user_id[:20]}...:\")\n",
    "        for row in result:\n",
    "            print(f\"  ID: {row.id}, Time: {row.timestamp}, Action: {row.action_type}\")\n",
    "            print(f\"    Message: {row.message_preview}...\" if row.message_preview and len(row.message_preview) >= 50 else f\"    Message: {row.message_preview}\")\n",
    "    \n",
    "    engine.dispose()"
   ]
  }
 ],
 "metadata": {
  "kernelspec": {
   "display_name": "Python 3",
   "language": "python",
   "name": "python3"
  },
  "language_info": {
   "codemirror_mode": {
    "name": "ipython",
    "version": 3
   },
   "file_extension": ".py",
   "mimetype": "text/x-python",
   "name": "python",
   "nbconvert_exporter": "python",
   "pygments_lexer": "ipython3",
   "version": "3.11.8"
  }
 },
 "nbformat": 4,
 "nbformat_minor": 4
}
