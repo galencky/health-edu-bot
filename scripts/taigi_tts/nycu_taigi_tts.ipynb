{
 "cells": [
  {
   "cell_type": "markdown",
   "id": "e34f36e6",
   "metadata": {},
   "source": [
    "# NYCU Taigi TTS client\n",
    "Two‑step pipeline:\n",
    "1. **Mandarin → TLPA** (`html_taigi_zh_tw_py`)\n",
    "2. **TLPA → WAV** (`synthesize_TLPA`)\n",
    "\n",
    "This notebook wraps the endpoints that the NYCU demo page calls.\n",
    "Just run the cells below.  The resulting `speech.wav` will appear in\n",
    "the same folder.\n"
   ]
  },
  {
   "cell_type": "code",
   "execution_count": 1,
   "id": "f3b8bf3d",
   "metadata": {},
   "outputs": [],
   "source": [
    "# 🔧 Configuration\n",
    "BASE_URL = \"http://tts001.iptcloud.net:8804\"  # change if the host has moved\n",
    "GENDER   = \"女聲\"                           # '女聲' or '男聲'\n",
    "ACCENT   = \"強勢腔（高雄腔）\"                # '強勢腔（高雄腔）' or '次強勢腔（台北腔）'\n"
   ]
  },
  {
   "cell_type": "code",
   "execution_count": 2,
   "id": "78e0c72a",
   "metadata": {},
   "outputs": [],
   "source": [
    "import requests, pathlib, textwrap\n",
    "\n",
    "END_CN_2_TLPA  = \"/html_taigi_zh_tw_py\"\n",
    "END_TLPA_2_WAV = \"/synthesize_TLPA\"\n",
    "\n",
    "def cn_to_tlpa(text: str, base: str = BASE_URL) -> str:\n",
    "    \"\"\"Mandarin → TLPA\"\"\"\n",
    "    r = requests.get(f\"{base.rstrip('/')}{END_CN_2_TLPA}\", params={\"text0\": text}, timeout=60)\n",
    "    r.raise_for_status()\n",
    "    return r.text.strip()\n",
    "\n",
    "def tlpa_to_wav(tlpa: str, *, gender: str = GENDER, accent: str = ACCENT,\n",
    "                base: str = BASE_URL) -> bytes:\n",
    "    \"\"\"TLPA → binary WAV\"\"\"\n",
    "    params = {\"text1\": tlpa, \"gender\": gender, \"accent\": accent}\n",
    "    r = requests.get(f\"{base.rstrip('/')}{END_TLPA_2_WAV}\", params=params, timeout=120)\n",
    "    r.raise_for_status()\n",
    "    return r.content\n"
   ]
  },
  {
   "cell_type": "code",
   "execution_count": 5,
   "id": "4c9e64e5",
   "metadata": {},
   "outputs": [
    {
     "name": "stdout",
     "output_type": "stream",
     "text": [
      "TLPA: a1-kong1 bok8-tsing5 e5 sin1-the2 tsong7-hong2 tsiok4 bai2--e5, sim1-tsong7 sue1-keh4 ji5-tshiann2 hi3-tsik4-tsui2, u7 khoo2 e7-tang3 su1-iau3 tshah4-kong2.\n",
      "Saved: C:\\Users\\galen\\Downloads\\speech.wav\n"
     ]
    }
   ],
   "source": [
    "# ▶️ Example: Mandarin → WAV\n",
    "mandarin_sentence = \"阿公目前的身體狀況很差，心臟衰竭而且肺積水，有苦能需要插管。\"\n",
    "\n",
    "tlpa = cn_to_tlpa(mandarin_sentence)\n",
    "print(\"TLPA:\", tlpa)\n",
    "\n",
    "wav_bytes = tlpa_to_wav(tlpa)\n",
    "\n",
    "out_path = pathlib.Path(\"speech.wav\").resolve()\n",
    "out_path.write_bytes(wav_bytes)\n",
    "print(\"Saved:\", out_path)"
   ]
  }
 ],
 "metadata": {
  "kernelspec": {
   "display_name": "Python 3",
   "language": "python",
   "name": "python3"
  },
  "language_info": {
   "codemirror_mode": {
    "name": "ipython",
    "version": 3
   },
   "file_extension": ".py",
   "mimetype": "text/x-python",
   "name": "python",
   "nbconvert_exporter": "python",
   "pygments_lexer": "ipython3",
   "version": "3.11.8"
  }
 },
 "nbformat": 4,
 "nbformat_minor": 5
}
